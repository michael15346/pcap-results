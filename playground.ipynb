{
 "cells": [
  {
   "cell_type": "code",
   "execution_count": null,
   "id": "c9498943-6b77-4c13-845b-6a81515f12af",
   "metadata": {
    "vscode": {
     "languageId": "python"
    }
   },
   "outputs": [],
   "source": [
    "import pandas as pd\n",
    "import numpy as np\n",
    "# %matplotlib notebook\n",
    "import matplotlib.pyplot as plt\n",
    "from collections import defaultdict"
   ]
  },
  {
   "cell_type": "code",
   "execution_count": 2,
   "id": "ef83b56e-0a0f-43ab-a33e-8c52cc0aff57",
   "metadata": {
    "vscode": {
     "languageId": "python"
    }
   },
   "outputs": [],
   "source": [
    "from sklearn.linear_model import LinearRegression, RANSACRegressor, TheilSenRegressor"
   ]
  },
  {
   "cell_type": "code",
   "execution_count": 3,
   "id": "e5fe1b4a-23ab-40b2-b756-e94ba97ab0db",
   "metadata": {
    "vscode": {
     "languageId": "python"
    }
   },
   "outputs": [],
   "source": [
    "df = pd.read_csv('entire_input.csv')\n",
    "pd.set_option('display.max_columns', None)\n"
   ]
  },
  {
   "cell_type": "code",
   "execution_count": 4,
   "id": "b5d5b256-e769-48de-a2f3-13db123106e2",
   "metadata": {
    "vscode": {
     "languageId": "python"
    }
   },
   "outputs": [],
   "source": [
    "df"
   ]
  },
  {
   "cell_type": "code",
   "execution_count": 31,
   "id": "e17a8b16-bcb4-4b67-b8f1-08edcd8f02a7",
   "metadata": {
    "vscode": {
     "languageId": "python"
    }
   },
   "outputs": [],
   "source": [
    "state = dict()\n",
    "xs = []\n",
    "ys = []\n",
    "for i, row in df.iterrows():\n",
    "    #print(row)\n",
    "    session = (row['ip_src'], row['ip_dst'], row['tcp_src'], row['tcp_dst'])\n",
    "    \n",
    "    if session in state and row['ip_src'] != 3232236018:\n",
    "        xs.append(state[session])\n",
    "        ys.append(row['ip_id'])\n",
    "    state[session] = row['ip_id']\n",
    "xs = np.array(xs).reshape(-1, 1)\n",
    "ys = np.array(ys).reshape(-1, 1)"
   ]
  },
  {
   "cell_type": "code",
   "execution_count": null,
   "id": "3205a294-defd-4fc1-8c01-519cf5f6442d",
   "metadata": {
    "vscode": {
     "languageId": "python"
    }
   },
   "outputs": [],
   "source": [
    "state_noacanthisitta = dict()\n",
    "state2 = dict()\n",
    "state3 = dict()\n",
    "state4 = dict()\n",
    "xs_noacanthisitta = []\n",
    "ys_noacanthisitta = []\n",
    "for i, row in df.iterrows():\n",
    "    #print(row)\n",
    "    session = (row['ip_src'], row['ip_dst'], row['tcp_src'], row['tcp_dst'])\n",
    "    \n",
    "    if session in state_noacanthisitta and not(row['tcp_ack'] == 1 and row['tcp_syn'] == 1) and not(state2[session] == 1 and state3[session] == 1) and not state4[session] == 1:\n",
    "        xs_noacanthisitta.append(state_noacanthisitta[session])\n",
    "        ys_noacanthisitta.append(row['ip_id'])\n",
    "    state_noacanthisitta[session] = row['ip_id']\n",
    "    state2[session] = row['tcp_syn']\n",
    "    state3[session] = row['tcp_ack']\n",
    "    state4[session] = row['tcp_rst']\n",
    "    \n",
    "xs_noacanthisitta = np.array(xs_noacanthisitta).reshape(-1, 1)\n",
    "ys_noacanthisitta = np.array(ys_noacanthisitta).reshape(-1, 1)"
   ]
  },
  {
   "cell_type": "code",
   "execution_count": 43,
   "id": "71a266d6-f0da-4c94-89ad-2f379d0a440b",
   "metadata": {
    "vscode": {
     "languageId": "python"
    }
   },
   "outputs": [],
   "source": [
    "# 0,0: ipid = 0, syn = 1, ack = 1\n",
    "# 1,0: ipid != 0, syn = 1, ack = 1\n",
    "# 0,1: ipid = 0, syn = 0 || ack = 0\n",
    "# 1,1: ipid != 0, syn = 0 || ack = 0\n",
    "squares = np.zeros((2,2))\n",
    "for i, row in df.iterrows():\n",
    "    #print(row)\n",
    "    #if row['ip_src'] == 3232236018: # 192.168.1.242 = acanthisitta, known to be linux\n",
    "    if row['ip_id'] == 0 and row['tcp_syn'] == 1 and row['tcp_ack'] == 1:\n",
    "        squares[0, 0] += 1\n",
    "    elif row['ip_id'] != 0 and row['tcp_syn'] == 1 and row['tcp_ack'] == 1:\n",
    "        squares[1, 0] += 1\n",
    "    elif row['ip_id'] == 0 and (row['tcp_syn'] == 0 or row['tcp_ack'] == 0):\n",
    "        squares[0, 1] += 1\n",
    "    elif row['ip_id'] != 0 and (row['tcp_syn'] == 0 or row['tcp_ack'] == 0):\n",
    "        squares[1, 1] += 1\n"
   ]
  },
  {
   "cell_type": "code",
   "execution_count": 5,
   "id": "446c06c5-82e7-461c-bf3a-645f43501a53",
   "metadata": {
    "vscode": {
     "languageId": "python"
    }
   },
   "outputs": [],
   "source": [
    "state_ack_no = dict()\n",
    "base_seq = dict()\n",
    "base_ack = dict()\n",
    "xs_ack_no = []\n",
    "ys_ack_no = []\n",
    "for i, row in df.iterrows():\n",
    "    #print(row)\n",
    "    session = (row['ip_src'], row['ip_dst'], row['tcp_src'], row['tcp_dst'])\n",
    "    reverse_session = (row['ip_dst'], row['ip_src'], row['tcp_dst'], row['tcp_src'])\n",
    "    \n",
    "    if session not in base_ack and row['tcp_ack_no'] != 0:\n",
    "        base_ack[session] = [row['tcp_ack_no']]\n",
    "    if session not in base_seq:\n",
    "        base_seq[session] = [row['tcp_seq_no']]\n",
    "    if session in state_ack_no and reverse_session in state_ack_no and reverse_session in base_ack and reverse_session in base_seq and session in base_ack:\n",
    "        xs_ack_no.append(state_ack_no[session] + state_ack_no[reverse_session])# + base_seq[session] + base_seq[reverse_session] + base_ack[session] + base_ack[reverse_session])[[0,1,2,3,4,5,6,7,8,9]])\n",
    "        #print(state_ack_no[session] + state_ack_no[reverse_session] + base_seq[session] + base_seq[reverse_session] + base_ack[session] + base_ack[reverse_session])\n",
    "        \n",
    "        if session in base_ack:\n",
    "            ys_ack_no.append(row['tcp_ack_no'] - base_ack[session])\n",
    "        else:\n",
    "            ys_ack_no.append(0) #lets pray\n",
    "            #ys_ack_no.append(row['tcp_ack_no'])\n",
    "        state_ack_no[session] = [row['tcp_ack_no'] - base_ack[session][0], row['tcp_seq_no'] - base_seq[session][0], row['tcp_data_off'], row['len_original']]\n",
    "    if session not in state_ack_no :\n",
    "        if session in base_ack:\n",
    "            state_ack_no[session] = [row['tcp_ack_no'] - base_ack[session][0], row['tcp_seq_no'] - base_seq[session][0], row['tcp_data_off'], row['len_original']]\n",
    "        else:\n",
    "            state_ack_no[session] = [0, 0, row['tcp_data_off'], row['len_original']]\n",
    "\n",
    "xs_ack_no = np.array(xs_ack_no)\n",
    "ys_ack_no = np.array(ys_ack_no).reshape(-1, 1)"
   ]
  },
  {
   "cell_type": "code",
   "execution_count": null,
   "id": "2b98b9eb-010a-4649-8866-4e51dc2d40a9",
   "metadata": {
    "vscode": {
     "languageId": "python"
    }
   },
   "outputs": [],
   "source": [
    "state_ack_no = dict()\n",
    "sent_acks = defaultdict(lambda: set())\n",
    "received_acks = defaultdict(lambda: set())\n",
    "base_seq = dict()\n",
    "base_ack = dict()\n",
    "xs_ack_no = []\n",
    "ys_ack_no = []\n",
    "wrong = 0\n",
    "discarded = 0\n",
    "for i, row in df.iterrows():\n",
    "    #print(row)\n",
    "\n",
    "    session = (row['ip_src'], row['ip_dst'], row['tcp_src'], row['tcp_dst'])\n",
    "    reverse_session = (row['ip_dst'], row['ip_src'], row['tcp_dst'], row['tcp_src'])\n",
    "    if row['tcp_ack_no'] in sent_acks[session]:\n",
    "        ...\n",
    "    if session in state_ack_no and \\\n",
    "            ((row['tcp_fin'] == 0 and row['tcp_rst'] == 0 and (row['tcp_ack'] == 0 or row['tcp_syn'] == 1)) or \\\n",
    "          (row['tcp_fin'] == 1 and row['tcp_ack'] == 1) or \\\n",
    "            (row['tcp_rst'] == 1 and row['tcp_ack'] == 1) or\n",
    "            (row['tcp_ack'] == 1 and row['tcp_syn'] == 0 and row['tcp_rst'] == 0 and row['tcp_fin'] == 0 and \n",
    "        (row['tcp_ack_no'], row['tcp_seq_no']) not in sent_acks[session])): # and reverse_session in state_ack_no:\n",
    "\n",
    "        xs_ack_no.append(state_ack_no[session])# + state_ack_no[reverse_session])\n",
    "        #print(state_ack_no[session] + state_ack_no[reverse_session] + base_seq[session] + base_seq[reverse_session] + base_ack[session] + base_ack[reverse_session])\n",
    "        ys_ack_no.append(row['tcp_seq_no'])\n",
    "        if row['tcp_seq_no'] != sum(state_ack_no[session]):\n",
    "            wrong += 1\n",
    "    elif session in state_ack_no and row['tcp_seq_no'] == sum(state_ack_no[session]):\n",
    "        discarded += 1\n",
    "        \n",
    "    state_ack_no[session] = [row['tcp_seq_no'], row['tcp_syn'], row['payload_size']]\n",
    "    if row['tcp_fin'] == 1 or row['tcp_rst'] == 1:\n",
    "        state_ack_no.pop(session)\n",
    "        sent_acks.pop(reverse_session, None)\n",
    "    if row['tcp_ack'] == 1 and row['tcp_syn'] == 0 and row['payload_size'] > 0:\n",
    "        sent_acks[session].add((row['tcp_ack_no'], row['tcp_seq_no']))\n",
    "        received_acks[session].add(row['tcp_ack_no'])\n",
    "\n",
    "\n",
    "\n",
    "xs_ack_no = np.array(xs_ack_no)\n",
    "ys_ack_no = np.array(ys_ack_no)"
   ]
  },
  {
   "cell_type": "code",
   "execution_count": null,
   "id": "954b4d5b",
   "metadata": {
    "vscode": {
     "languageId": "python"
    }
   },
   "outputs": [],
   "source": [
    "discarded"
   ]
  },
  {
   "cell_type": "code",
   "execution_count": null,
   "id": "c31b3274",
   "metadata": {
    "vscode": {
     "languageId": "python"
    }
   },
   "outputs": [],
   "source": [
    "wrong"
   ]
  },
  {
   "cell_type": "code",
   "execution_count": 144,
   "id": "67f2b7d8-fbbc-43f4-9ac2-6fe20bafd5de",
   "metadata": {
    "vscode": {
     "languageId": "python"
    }
   },
   "outputs": [],
   "source": [
    "fig, ax = plt.subplots()\n",
    "im = ax.imshow(squares)\n",
    "ax.text(0, 0, squares[0, 0], ha=\"center\", va=\"center\", color=\"w\")\n",
    "ax.text(0, 1, squares[1, 0], ha=\"center\", va=\"center\", color=\"c\")\n",
    "ax.text(1, 0, squares[0, 1], ha=\"center\", va=\"center\", color=\"m\")\n",
    "ax.text(1, 1, squares[1, 1], ha=\"center\", va=\"center\", color=\"y\")"
   ]
  },
  {
   "cell_type": "code",
   "execution_count": null,
   "id": "5041edab-ff33-4152-bf22-660d0b48afae",
   "metadata": {
    "vscode": {
     "languageId": "python"
    }
   },
   "outputs": [],
   "source": [
    "df"
   ]
  },
  {
   "cell_type": "code",
   "execution_count": 41,
   "id": "50a9998d-5906-422a-ae69-4ad9a81cf927",
   "metadata": {
    "vscode": {
     "languageId": "python"
    }
   },
   "outputs": [],
   "source": [
    "cnt"
   ]
  },
  {
   "cell_type": "code",
   "execution_count": 50,
   "id": "4fedd9dd-29e7-4a8a-9210-d9959a33b26c",
   "metadata": {
    "vscode": {
     "languageId": "python"
    }
   },
   "outputs": [],
   "source": [
    "ys_ack_no"
   ]
  },
  {
   "cell_type": "code",
   "execution_count": 51,
   "id": "c88ee1a2-00b7-4084-983b-4df29cfeb32c",
   "metadata": {
    "vscode": {
     "languageId": "python"
    }
   },
   "outputs": [],
   "source": [
    "xs_ack_no = xs_ack_no / [2.**32, 1., 2.**16]\n",
    "ys_ack_no = ys_ack_no / 2.**16"
   ]
  },
  {
   "cell_type": "code",
   "execution_count": null,
   "id": "9f3e2702",
   "metadata": {
    "vscode": {
     "languageId": "python"
    }
   },
   "outputs": [],
   "source": [
    "ys_ack_no = ys_ack_no / 2.**16"
   ]
  },
  {
   "cell_type": "code",
   "execution_count": null,
   "id": "1f6aa59b",
   "metadata": {
    "vscode": {
     "languageId": "python"
    }
   },
   "outputs": [],
   "source": [
    "np.min(xs_ack_no, axis=0)"
   ]
  },
  {
   "cell_type": "code",
   "execution_count": null,
   "id": "16a26513",
   "metadata": {
    "vscode": {
     "languageId": "python"
    }
   },
   "outputs": [],
   "source": []
  },
  {
   "cell_type": "code",
   "execution_count": 7,
   "id": "7eb15956-4c47-4a89-b011-a67105d79865",
   "metadata": {
    "vscode": {
     "languageId": "python"
    }
   },
   "outputs": [],
   "source": [
    "r = RANSACRegressor()"
   ]
  },
  {
   "cell_type": "code",
   "execution_count": 35,
   "id": "f739dcc0-4e7d-43af-8265-48c3f8213f14",
   "metadata": {
    "vscode": {
     "languageId": "python"
    }
   },
   "outputs": [],
   "source": [
    "r.fit(xs_ack_no, ys_ack_no)"
   ]
  },
  {
   "cell_type": "code",
   "execution_count": null,
   "id": "3e613c56",
   "metadata": {
    "vscode": {
     "languageId": "python"
    }
   },
   "outputs": [],
   "source": []
  },
  {
   "cell_type": "code",
   "execution_count": null,
   "id": "839d6393",
   "metadata": {
    "vscode": {
     "languageId": "python"
    }
   },
   "outputs": [],
   "source": [
    "(1.52030289e-05) ** 2"
   ]
  },
  {
   "cell_type": "code",
   "execution_count": null,
   "id": "f6284539",
   "metadata": {
    "vscode": {
     "languageId": "python"
    }
   },
   "outputs": [],
   "source": [
    "r.coef_ "
   ]
  },
  {
   "cell_type": "code",
   "execution_count": null,
   "id": "ad6bdf56",
   "metadata": {
    "vscode": {
     "languageId": "python"
    }
   },
   "outputs": [],
   "source": [
    "d = (xs_ack_no @ np.array([1, 1, 1]).reshape(3,) - ys_ack_no)"
   ]
  },
  {
   "cell_type": "code",
   "execution_count": null,
   "id": "86e7b750",
   "metadata": {
    "vscode": {
     "languageId": "python"
    }
   },
   "outputs": [],
   "source": [
    "plt.figure()\n",
    "plt.plot(np.log10(abs(d * 2**32)+1), '.-')"
   ]
  },
  {
   "cell_type": "code",
   "execution_count": 36,
   "id": "e1c32d60-3d5c-4407-b597-d395d9c1c6e2",
   "metadata": {
    "vscode": {
     "languageId": "python"
    }
   },
   "outputs": [],
   "source": [
    "ys2 = r.predict(xs_ack_no)"
   ]
  },
  {
   "cell_type": "code",
   "execution_count": 24,
   "id": "7b9f12cf-56b7-406c-bee8-5dd3ea30b2df",
   "metadata": {
    "vscode": {
     "languageId": "python"
    }
   },
   "outputs": [],
   "source": [
    "sum(d > 0)"
   ]
  },
  {
   "cell_type": "code",
   "execution_count": null,
   "id": "95f81875",
   "metadata": {
    "vscode": {
     "languageId": "python"
    }
   },
   "outputs": [],
   "source": [
    "ys2"
   ]
  },
  {
   "cell_type": "code",
   "execution_count": 46,
   "id": "d4b6ef73-454c-4feb-81f8-5bc527e641ea",
   "metadata": {
    "vscode": {
     "languageId": "python"
    }
   },
   "outputs": [],
   "source": [
    "plt.scatter(xs_ack_no[:, 0], ys_ack_no, alpha=0.01) \n",
    "plt.scatter(xs_ack_no[:, 2], ys2, alpha=0.01)\n"
   ]
  },
  {
   "cell_type": "code",
   "execution_count": null,
   "id": "b1229630-94f1-417f-b76f-c839dd628a9e",
   "metadata": {
    "vscode": {
     "languageId": "python"
    }
   },
   "outputs": [],
   "source": []
  },
  {
   "cell_type": "code",
   "execution_count": 288,
   "id": "666d7e04-9736-42e0-8f0d-9e539f627421",
   "metadata": {
    "vscode": {
     "languageId": "python"
    }
   },
   "outputs": [],
   "source": [
    "rr = np.unique_counts(ys_ack_no - ys2)"
   ]
  },
  {
   "cell_type": "code",
   "execution_count": 326,
   "id": "2e419441-e313-4799-a428-144dc1de733a",
   "metadata": {
    "vscode": {
     "languageId": "python"
    }
   },
   "outputs": [],
   "source": [
    "plt.hist(ys_ack_no - ys2, bins=201, range=(-1e7, 1e7))"
   ]
  },
  {
   "cell_type": "code",
   "execution_count": 214,
   "id": "0fe31ed1-54a1-4e1e-8e1e-257b20dd0de6",
   "metadata": {
    "vscode": {
     "languageId": "python"
    }
   },
   "outputs": [],
   "source": [
    "v = list(zip(rr.values, rr.counts))"
   ]
  },
  {
   "cell_type": "code",
   "execution_count": 215,
   "id": "a845d33e-2bcd-4c49-b70b-b85850d2242f",
   "metadata": {
    "vscode": {
     "languageId": "python"
    }
   },
   "outputs": [],
   "source": []
  },
  {
   "cell_type": "code",
   "execution_count": null,
   "id": "64af639c-45a2-4b6e-98b6-b288b88d659c",
   "metadata": {
    "vscode": {
     "languageId": "python"
    }
   },
   "outputs": [],
   "source": []
  }
 ],
 "metadata": {
  "kernelspec": {
   "display_name": "Python 3 (ipykernel)",
   "language": "python",
   "name": "python3"
  },
  "language_info": {
   "name": "",
   "version": ""
  }
 },
 "nbformat": 4,
 "nbformat_minor": 5
}
